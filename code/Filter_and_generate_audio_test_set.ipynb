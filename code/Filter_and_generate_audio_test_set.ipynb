{
  "nbformat": 4,
  "nbformat_minor": 0,
  "metadata": {
    "colab": {
      "name": "Filter_and_generate_audio_test_set.ipynb",
      "provenance": [],
      "collapsed_sections": []
    },
    "kernelspec": {
      "name": "python3",
      "display_name": "Python 3"
    }
  },
  "cells": [
    {
      "cell_type": "markdown",
      "metadata": {
        "id": "eni1zOBG9yRI",
        "colab_type": "text"
      },
      "source": [
        "Import libraries"
      ]
    },
    {
      "cell_type": "code",
      "metadata": {
        "id": "JEW5WTZX9ndB",
        "colab_type": "code",
        "colab": {}
      },
      "source": [
        "import os\n",
        "import logging\n",
        "import numpy as np"
      ],
      "execution_count": 0,
      "outputs": []
    },
    {
      "cell_type": "markdown",
      "metadata": {
        "id": "w7ni7eBrRU6U",
        "colab_type": "text"
      },
      "source": [
        "Constants"
      ]
    },
    {
      "cell_type": "code",
      "metadata": {
        "id": "RXZI-8qfRXQK",
        "colab_type": "code",
        "colab": {}
      },
      "source": [
        "LABELS_FILTERED = ['angry', 'calming', 'happy', 'normal', 'sad']"
      ],
      "execution_count": 0,
      "outputs": []
    },
    {
      "cell_type": "markdown",
      "metadata": {
        "id": "PpqV-YwW99Dz",
        "colab_type": "text"
      },
      "source": [
        "Clone repository"
      ]
    },
    {
      "cell_type": "code",
      "metadata": {
        "id": "N1VFQ-A79_Jb",
        "colab_type": "code",
        "colab": {}
      },
      "source": [
        "if not os.path.isdir('./AIML_project'):\n",
        "  !git clone https://github.com/anphetamina/AIML_project.git"
      ],
      "execution_count": 0,
      "outputs": []
    },
    {
      "cell_type": "markdown",
      "metadata": {
        "id": "2CMAXbDA-uEE",
        "colab_type": "text"
      },
      "source": [
        "Read file and elaborate"
      ]
    },
    {
      "cell_type": "code",
      "metadata": {
        "id": "zIaL_Z1a-y8b",
        "colab_type": "code",
        "colab": {}
      },
      "source": [
        "f= open(\"AIML_project/Caltech-500/cal500_song_tag_annotations.txt\",\"r\")\n",
        "\n",
        "lines = f.readlines()\n",
        "labels = []\n",
        "songs = dict()\n",
        "\n",
        "for line in lines:\n",
        "  values = line.split('\\t')\n",
        "  values[1] = values[1].replace(\"\\n\", \"\")\n",
        "\n",
        "  if values[1] not in labels and values[1] in LABELS_FILTERED:\n",
        "    labels.append(values[1])\n",
        "\n",
        "for line in lines:\n",
        "  values = line.split('\\t')\n",
        "  values[1] = values[1].replace(\"\\n\", \"\")\n",
        "\n",
        "  if values[0] not in songs:\n",
        "    songs[values[0]] = np.zeros(len(labels), dtype=int)\n",
        "\n",
        "  if values[1] in LABELS_FILTERED:\n",
        "    songs[values[0]][labels.index(values[1])] = 1\n",
        "\n",
        "# print(list(labels))\n",
        "# print(len(songs))\n",
        "# print(songs)\n",
        "\n",
        "# songs_per_emo = dict()\n",
        "# for label in labels:\n",
        "#   songs_per_emo[label] = []\n",
        "\n",
        "# for key in songs.keys():\n",
        "#   idx = 0\n",
        "#   idx_1 = []\n",
        "#   for flag in songs[key]:\n",
        "#     if flag == 1:\n",
        "#       idx_1.append(idx)\n",
        "#     idx = idx + 1\n",
        "\n",
        "#   if len(idx_1) == 1:\n",
        "#     songs_per_emo[labels[idx_1[0]]].append(key)\n",
        "#   else:\n",
        "#     if len(idx_1) == 2 and 3 in idx_1:\n",
        "#       i = idx_1.index(3)\n",
        "#       if i == 0:\n",
        "#         songs_per_emo[labels[idx_1[1]]].append(key)\n",
        "#       else:\n",
        "#         songs_per_emo[labels[idx_1[0]]].append(key)\n",
        "#     else:\n",
        "#       if len(idx_1) != 0:\n",
        "#         songs_per_emo[\"others\"].append(key)\n",
        "#       else:\n",
        "#         print(key)\n",
        "\n",
        "labelstrings = []\n",
        "for song in songs.keys():\n",
        "  if 1 in songs[song]:\n",
        "    labelstring = \"\"\n",
        "    idx = 0\n",
        "    for flag in songs[song]:\n",
        "      if flag == 1:\n",
        "        labelstring += \"{}, \".format(labels[idx])\n",
        "      idx += 1\n",
        "    if labelstring is not \"\":\n",
        "      labelstring = labelstring[:-2]\n",
        "      labelstring += \";\"\n",
        "    labelstrings.append(\"{}: {}\\n\".format(song, labelstring))\n",
        "\n",
        "# for key in songs_per_emo.keys():\n",
        "#   print(\"{}: {}\".format(key, len(songs_per_emo[key])))\n",
        "\n",
        "# for song in songs_per_emo[\"others\"]:\n",
        "#   print(\"{}: {}\".format(song, songs[song]))"
      ],
      "execution_count": 0,
      "outputs": []
    },
    {
      "cell_type": "markdown",
      "metadata": {
        "id": "dmClNHVCOgbg",
        "colab_type": "text"
      },
      "source": [
        "Save file with songs and labels"
      ]
    },
    {
      "cell_type": "code",
      "metadata": {
        "id": "ztmgUMALOlg-",
        "colab_type": "code",
        "colab": {}
      },
      "source": [
        "fw = open(\"AIML_project/CAL500/songs_filtered_with_labels.txt\", \"w\")\n",
        "\n",
        "fw.writelines(labelstrings);\n",
        "\n",
        "fw.close()"
      ],
      "execution_count": 0,
      "outputs": []
    },
    {
      "cell_type": "markdown",
      "metadata": {
        "id": "rt6ER3xcO3jB",
        "colab_type": "text"
      },
      "source": [
        "Push modifications\n"
      ]
    },
    {
      "cell_type": "code",
      "metadata": {
        "id": "7fwX5De4Ab72",
        "colab_type": "code",
        "colab": {
          "base_uri": "https://localhost:8080/",
          "height": 748
        },
        "outputId": "8cf58f63-7759-414a-f1f6-7187d48a2420"
      },
      "source": [
        "if os.path.isdir('./AIML_project/CAL500/songs_selected'):\n",
        "  !rm -Rf ./AIML_project/CAL500/songs_selected\n",
        "\n",
        "!mkdir ./AIML_project/CAL500/songs_selected\n",
        "\n",
        "idx = 0\n",
        "for song in songs.keys():\n",
        "  if 1 in songs[song]:\n",
        "    path = \"'./AIML_project/CAL500_32kps_complete/{}.mp3'\".format(song)\n",
        "    !cp $path ./AIML_project/CAL500/songs_selected\n",
        "  idx += 1\n",
        "  if idx % 10 == 0:\n",
        "    print(\"Songs processed: {} of {}\".format(idx, len(songs.keys())))"
      ],
      "execution_count": 41,
      "outputs": [
        {
          "output_type": "stream",
          "text": [
            "Songs processed: 10 of 502\n",
            "Songs processed: 20 of 502\n",
            "Songs processed: 30 of 502\n",
            "Songs processed: 40 of 502\n",
            "Songs processed: 50 of 502\n",
            "Songs processed: 60 of 502\n",
            "Songs processed: 70 of 502\n",
            "Songs processed: 80 of 502\n",
            "Songs processed: 90 of 502\n",
            "Songs processed: 100 of 502\n",
            "Songs processed: 110 of 502\n",
            "Songs processed: 120 of 502\n",
            "Songs processed: 130 of 502\n",
            "Songs processed: 140 of 502\n",
            "Songs processed: 150 of 502\n",
            "Songs processed: 160 of 502\n",
            "Songs processed: 170 of 502\n",
            "Songs processed: 180 of 502\n",
            "cp: cannot stat './AIML_project/CAL500_32kps/crosby_stills_and_nash-guinnevere.mp3': No such file or directory\n",
            "Songs processed: 190 of 502\n",
            "Songs processed: 200 of 502\n",
            "cp: cannot stat './AIML_project/CAL500_32kps/radiohead-karma_police.mp3': No such file or directory\n",
            "Songs processed: 210 of 502\n",
            "Songs processed: 220 of 502\n",
            "Songs processed: 230 of 502\n",
            "Songs processed: 240 of 502\n",
            "Songs processed: 250 of 502\n",
            "Songs processed: 260 of 502\n",
            "Songs processed: 270 of 502\n",
            "Songs processed: 280 of 502\n",
            "Songs processed: 290 of 502\n",
            "Songs processed: 300 of 502\n",
            "Songs processed: 310 of 502\n",
            "Songs processed: 320 of 502\n",
            "Songs processed: 330 of 502\n",
            "Songs processed: 340 of 502\n",
            "Songs processed: 350 of 502\n",
            "Songs processed: 360 of 502\n",
            "Songs processed: 370 of 502\n",
            "Songs processed: 380 of 502\n",
            "Songs processed: 390 of 502\n",
            "Songs processed: 400 of 502\n",
            "Songs processed: 410 of 502\n"
          ],
          "name": "stdout"
        }
      ]
    },
    {
      "cell_type": "code",
      "metadata": {
        "id": "NGb-8tR5O68Q",
        "colab_type": "code",
        "colab": {
          "base_uri": "https://localhost:8080/",
          "height": 1000
        },
        "outputId": "c37a6037-9e71-425e-ed70-8c5ed7dba2d9"
      },
      "source": [
        "% cd ./AIML_project\n",
        "\n",
        "!git config user.email \"matteo.cerutti.96@gmail.com\"\n",
        "\n",
        "!git config user.name \"matteaw\"\n",
        "\n",
        "!git pull origin master\n",
        "\n",
        "!git add --all\n",
        "\n",
        "!git commit -m \"Test set script 4\"\n",
        "\n",
        "!git push origin master"
      ],
      "execution_count": 42,
      "outputs": [
        {
          "output_type": "stream",
          "text": [
            "/content/AIML_project/AIML_project\n",
            "From https://github.com/anphetamina/AIML_project\n",
            " * branch            master     -> FETCH_HEAD\n",
            "Already up to date.\n",
            "[master 9a0e834] Test set script 3\n",
            " 91 files changed, 0 insertions(+), 0 deletions(-)\n",
            " delete mode 100644 Caltech-500/songs_selected/abc-poison_arrow.mp3\n",
            " delete mode 100644 Caltech-500/songs_selected/adam_and_the_ants-prince_charming.mp3\n",
            " delete mode 100644 Caltech-500/songs_selected/artemis-don_t_look_back.mp3\n",
            " delete mode 100644 Caltech-500/songs_selected/barenaked_ladies-its_all_been_done.mp3\n",
            " delete mode 100644 Caltech-500/songs_selected/bauhaus-ziggy_stardust.mp3\n",
            " delete mode 100644 Caltech-500/songs_selected/beatundercontrol-this_is_beatundercontrol.mp3\n",
            " delete mode 100644 Caltech-500/songs_selected/belief_systems-skunk_werks.mp3\n",
            " delete mode 100644 Caltech-500/songs_selected/beth_quist-survival.mp3\n",
            " delete mode 100644 Caltech-500/songs_selected/blind_faith-had_to_cry_today.mp3\n",
            " delete mode 100644 Caltech-500/songs_selected/blind_melon-no_rain.mp3\n",
            " delete mode 100644 Caltech-500/songs_selected/blondie-rapture.mp3\n",
            " delete mode 100644 Caltech-500/songs_selected/bots-take_the_power_back.mp3\n",
            " delete mode 100644 Caltech-500/songs_selected/brad_sucks-overreacting.mp3\n",
            " delete mode 100644 Caltech-500/songs_selected/breeders-cannonball.mp3\n",
            " delete mode 100644 Caltech-500/songs_selected/bryan_adams-cuts_like_a_knife.mp3\n",
            " delete mode 100644 Caltech-500/songs_selected/buggles-video_killed_the_radio_star.mp3\n",
            " delete mode 100644 Caltech-500/songs_selected/byrds-wasnt_born_to_follow.mp3\n",
            " delete mode 100644 Caltech-500/songs_selected/c_layne-devil_and_the_woman.mp3\n",
            " delete mode 100644 Caltech-500/songs_selected/camper_van_beethoven-take_the_skinheads_bowling.mp3\n",
            " delete mode 100644 Caltech-500/songs_selected/canned_heat-on_the_road_again.mp3\n",
            " delete mode 100644 Caltech-500/songs_selected/chemical_brothers-setting_sun.mp3\n",
            " delete mode 100644 Caltech-500/songs_selected/chills-i_love_my_leather_jacket.mp3\n",
            " delete mode 100644 Caltech-500/songs_selected/clarence_ashley-the_house_carpenter.mp3\n",
            " delete mode 100644 Caltech-500/songs_selected/coasters-poison_ivy.mp3\n",
            " delete mode 100644 Caltech-500/songs_selected/cypress_hill-lowrider.mp3\n",
            " delete mode 100644 Caltech-500/songs_selected/de_la_soul-eye_know.mp3\n",
            " delete mode 100644 Caltech-500/songs_selected/depeche_mode-world_in_my_eyes.mp3\n",
            " delete mode 100644 Caltech-500/songs_selected/devo-girl_u_want.mp3\n",
            " delete mode 100644 Caltech-500/songs_selected/domased-too_slow.mp3\n",
            " delete mode 100644 Caltech-500/songs_selected/dr_kuch-persuaders_dub.mp3\n",
            " delete mode 100644 Caltech-500/songs_selected/eels-cancer_for_the_cure.mp3\n",
            " delete mode 100644 Caltech-500/songs_selected/eminem-my_fault.mp3\n",
            " delete mode 100644 Caltech-500/songs_selected/eurythmics-sweet_dreams.mp3\n",
            " delete mode 100644 Caltech-500/songs_selected/frank_zappa-whats_the_ugliest_part_of_your_body.mp3\n",
            " delete mode 100644 Caltech-500/songs_selected/glen_bledsoe-p_pop.mp3\n",
            " delete mode 100644 Caltech-500/songs_selected/grateful_dead-high_time.mp3\n",
            " delete mode 100644 Caltech-500/songs_selected/grayson_wray-heaven_s_the_place.mp3\n",
            " delete mode 100644 Caltech-500/songs_selected/guided_by_voices-kicker_of_elves.mp3\n",
            " delete mode 100644 Caltech-500/songs_selected/human_response-angels.mp3\n",
            " delete mode 100644 Caltech-500/songs_selected/indidginus-dusty_lands.mp3\n",
            " delete mode 100644 Caltech-500/songs_selected/jag-jag_s_rag.mp3\n",
            " delete mode 100644 Caltech-500/songs_selected/jesse_manno-alf_leyla_wa_leyla.mp3\n",
            " delete mode 100644 Caltech-500/songs_selected/john_lennon-imagine.mp3\n",
            " delete mode 100644 Caltech-500/songs_selected/joram-solipsism.mp3\n",
            " delete mode 100644 Caltech-500/songs_selected/joy_division-love_will_tear_us_apart.mp3\n",
            " delete mode 100644 Caltech-500/songs_selected/kansas-carry_on_wayward_son.mp3\n",
            " delete mode 100644 Caltech-500/songs_selected/kanye_west-gold_digger.mp3\n",
            " delete mode 100644 Caltech-500/songs_selected/king_crimson-thela_hun_ginjeet.mp3\n",
            " delete mode 100644 Caltech-500/songs_selected/kraftwerk-spacelab.mp3\n",
            " delete mode 100644 Caltech-500/songs_selected/kris_kristofferson-the_best_of_all_possible_worlds.mp3\n",
            " delete mode 100644 Caltech-500/songs_selected/love_and_rockets-mirror_people.mp3\n",
            " delete mode 100644 Caltech-500/songs_selected/memories_of_tomorrow-transcend_fate_of_a_dj.mp3\n",
            " delete mode 100644 Caltech-500/songs_selected/metallica-one.mp3\n",
            " delete mode 100644 Caltech-500/songs_selected/my_bloody_valentine-when_you_sleep.mp3\n",
            " delete mode 100644 Caltech-500/songs_selected/new_order-blue_monday.mp3\n",
            " delete mode 100644 Caltech-500/songs_selected/no_doubt-simple_kind_of_life.mp3\n",
            " delete mode 100644 Caltech-500/songs_selected/norine_braun-spanish_banks.mp3\n",
            " delete mode 100644 Caltech-500/songs_selected/nova_express-i_m_alive.mp3\n",
            " delete mode 100644 Caltech-500/songs_selected/olivia_tremor_control-i_have_been_floated.mp3\n",
            " delete mode 100644 Caltech-500/songs_selected/outkast-ms._jackson.mp3\n",
            " delete mode 100644 Caltech-500/songs_selected/pixies-wave_of_mutilation.mp3\n",
            " delete mode 100644 Caltech-500/songs_selected/pj_harvey-dry.mp3\n",
            " delete mode 100644 Caltech-500/songs_selected/ray_charles-hit_the_road_jack.mp3\n",
            " delete mode 100644 Caltech-500/songs_selected/replacements-answering_machine.mp3\n",
            " delete mode 100644 Caltech-500/songs_selected/roxy_music-love_is_the_drug.mp3\n",
            " delete mode 100644 Caltech-500/songs_selected/roy_orbison-running_scared.mp3\n",
            " delete mode 100644 Caltech-500/songs_selected/seismic_anamoly-wreckinball.mp3\n",
            " delete mode 100644 Caltech-500/songs_selected/shiva_in_exile-hollow_earth.mp3\n",
            " delete mode 100644 Caltech-500/songs_selected/sinad_oconnor-no_mans_woman.mp3\n",
            " delete mode 100644 Caltech-500/songs_selected/small_faces-lazy_sunday.mp3\n",
            " delete mode 100644 Caltech-500/songs_selected/smiths-how_soon_is_now.mp3\n",
            " delete mode 100644 Caltech-500/songs_selected/snoop_doggy_dogg-gin_and_juice.mp3\n",
            " delete mode 100644 Caltech-500/songs_selected/sonic_youth-teen_age_riot.mp3\n",
            " delete mode 100644 Caltech-500/songs_selected/soundgarden-black_hole_sun.mp3\n",
            " create mode 100644 Caltech-500/songs_selected/squarepusher-a_journey_to_reedham_(7am_mix).mp3\n",
            " delete mode 100644 Caltech-500/songs_selected/standells-dirty_water.mp3\n",
            " delete mode 100644 Caltech-500/songs_selected/steely_dan-rikki_dont_lose_that_number.mp3\n",
            " delete mode 100644 Caltech-500/songs_selected/stooges-dirt.mp3\n",
            " delete mode 100644 Caltech-500/songs_selected/stranglers-golden_brown.mp3\n",
            " delete mode 100644 Caltech-500/songs_selected/strojovna_07-130.mp3\n",
            " delete mode 100644 Caltech-500/songs_selected/television-venus.mp3\n",
            " delete mode 100644 Caltech-500/songs_selected/thelonious_monk-epistrophy.mp3\n",
            " delete mode 100644 Caltech-500/songs_selected/thin_lizzy-dont_believe_a_word.mp3\n",
            " delete mode 100644 Caltech-500/songs_selected/tim_rayborn-yedi_tekrar.mp3\n",
            " delete mode 100644 Caltech-500/songs_selected/tori_amos-professional_widow.mp3\n",
            " delete mode 100644 Caltech-500/songs_selected/tricky-christiansands.mp3\n",
            " delete mode 100644 Caltech-500/songs_selected/ultravox-dancing_with_tears_in_my_eyes.mp3\n",
            " delete mode 100644 Caltech-500/songs_selected/violent_femmes-blister_in_the_sun.mp3\n",
            " delete mode 100644 Caltech-500/songs_selected/wicked_boy-pressure.mp3\n",
            " delete mode 100644 Caltech-500/songs_selected/williamson-whats_on_the_ceiling_beats_whats_on_tv.mp3\n",
            " delete mode 100644 Caltech-500/songs_selected/yo_la_tengo-tom_courtenay.mp3\n",
            "Counting objects: 4, done.\n",
            "Delta compression using up to 2 threads.\n",
            "Compressing objects: 100% (4/4), done.\n",
            "Writing objects: 100% (4/4), 765 bytes | 765.00 KiB/s, done.\n",
            "Total 4 (delta 3), reused 0 (delta 0)\n",
            "remote: Resolving deltas: 100% (3/3), completed with 3 local objects.\u001b[K\n",
            "To https://github.com/anphetamina/AIML_project.git\n",
            "   4e012a4..9a0e834  master -> master\n"
          ],
          "name": "stdout"
        }
      ]
    }
  ]
}
